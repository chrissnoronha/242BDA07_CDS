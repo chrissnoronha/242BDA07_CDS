{
 "cells": [
  {
   "cell_type": "markdown",
   "metadata": {},
   "source": [
    "'''Algorithm No. 1\n",
    "Name: Linear Search\n",
    "Author: Chrisann Noronha '''"
   ]
  },
  {
   "cell_type": "code",
   "execution_count": 1,
   "metadata": {},
   "outputs": [],
   "source": [
    "def linearoperation(name, fruits):\n",
    "    for fruit in range(len(fruits)):\n",
    "        if(name==fruits[fruit]):\n",
    "            print(\"Fruit is in list.\")\n",
    "    \n",
    "    \n",
    "    "
   ]
  },
  {
   "cell_type": "code",
   "execution_count": 2,
   "metadata": {},
   "outputs": [],
   "source": [
    "fruits = []\n",
    "countofnames = int(input(\"Enter the number of fruits you want to enter: \")) \n",
    "for i in range(1,countofnames+1):\n",
    "    y = input()\n",
    "    fruits.append(y)\n",
    "name = input(\"Enter the fruit you want to search: \")\n",
    "\n",
    "\n",
    "linearoperation(name, fruits)\n",
    "\n"
   ]
  },
  {
   "cell_type": "code",
   "execution_count": null,
   "metadata": {},
   "outputs": [],
   "source": []
  },
  {
   "cell_type": "code",
   "execution_count": null,
   "metadata": {},
   "outputs": [],
   "source": []
  },
  {
   "cell_type": "code",
   "execution_count": null,
   "metadata": {},
   "outputs": [],
   "source": []
  }
 ],
 "metadata": {
  "kernelspec": {
   "display_name": "Python 3",
   "language": "python",
   "name": "python3"
  },
  "language_info": {
   "codemirror_mode": {
    "name": "ipython",
    "version": 3
   },
   "file_extension": ".py",
   "mimetype": "text/x-python",
   "name": "python",
   "nbconvert_exporter": "python",
   "pygments_lexer": "ipython3",
   "version": "3.12.4"
  }
 },
 "nbformat": 4,
 "nbformat_minor": 2
}
